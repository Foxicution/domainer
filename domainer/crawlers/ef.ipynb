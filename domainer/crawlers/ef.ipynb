{
 "cells": [
  {
   "cell_type": "code",
   "execution_count": 19,
   "metadata": {},
   "outputs": [],
   "source": [
    "from domainer.config import DATA_TMP_DIR, DATA_DIR\n",
    "from lxml.etree import HTML\n",
    "import json\n",
    "import requests"
   ]
  },
  {
   "cell_type": "code",
   "execution_count": 4,
   "metadata": {},
   "outputs": [
    {
     "data": {
      "text/plain": [
       "<Element html at 0x7fc7b417fc00>"
      ]
     },
     "execution_count": 4,
     "metadata": {},
     "output_type": "execute_result"
    }
   ],
   "source": [
    "# raw_ef html aquired manually from https://www.joinef.com/portfolio\n",
    "# as it is a temporary file automation was not deemed as important as iteration speed\n",
    "with open(DATA_TMP_DIR / \"raw_ef.html\") as f:\n",
    "    raw_ef = f.read()\n",
    "\n",
    "tree = HTML(raw_ef)\n",
    "tree"
   ]
  },
  {
   "cell_type": "code",
   "execution_count": 8,
   "metadata": {},
   "outputs": [
    {
     "data": {
      "text/plain": [
       "451"
      ]
     },
     "execution_count": 8,
     "metadata": {},
     "output_type": "execute_result"
    }
   ],
   "source": [
    "# extracting company data\n",
    "companies = []\n",
    "\n",
    "for company in tree.xpath(\".//div[@class='companies loadmore-container']/div\"):\n",
    "    data = {\n",
    "        \"name\": company.xpath(\"./a/text()\")[0],\n",
    "        \"ef_link\": company.xpath(\"./a/@href\")[0],\n",
    "        \"tags\": company.xpath(\".//a[contains(@class, 'categorytag')]/@href\"),\n",
    "        \"tagline\": company.xpath(\".//div[@class='tile__description text-sml']/text()\")[0],\n",
    "    }\n",
    "    companies.append(data)\n",
    "\n",
    "len(companies)"
   ]
  },
  {
   "cell_type": "code",
   "execution_count": 7,
   "metadata": {},
   "outputs": [
    {
     "data": {
      "text/plain": [
       "{'name': 'CodeAnt AI',\n",
       " 'ef_link': 'https://www.joinef.com/companies/codeant-ai/',\n",
       " 'tags': ['https://www.joinef.com/industry/ai/',\n",
       "  'https://www.joinef.com/industry/developer-tools/'],\n",
       " 'tagline': 'AI to auto-fix bad code and security vulnerabilities.'}"
      ]
     },
     "execution_count": 7,
     "metadata": {},
     "output_type": "execute_result"
    }
   ],
   "source": [
    "companies[0]"
   ]
  },
  {
   "cell_type": "code",
   "execution_count": 10,
   "metadata": {},
   "outputs": [],
   "source": [
    "with open(DATA_TMP_DIR / \"raw_ef.json\", \"w\") as f:\n",
    "    json.dump(companies, f)"
   ]
  },
  {
   "cell_type": "code",
   "execution_count": 11,
   "metadata": {},
   "outputs": [],
   "source": [
    "# Function to extract data from raw company page\n",
    "def extract_extra_ef_info(html: str) -> dict:\n",
    "    tree = HTML(html)\n",
    "    data = {\n",
    "        \"website\": tree.xpath(\"//a[contains(@class, 'pageheader__websitebtn')]/@href\"),\n",
    "        \"description\": [\n",
    "            desc\n",
    "            for text in tree.xpath(\"//div[contains(@class, 'company__longbio')]//*/text()\")\n",
    "            + tree.xpath(\"//div[contains(@class, 'company__smallbio')]//*/text()\")\n",
    "            if (desc := text.strip())\n",
    "        ],\n",
    "    }\n",
    "\n",
    "    return data"
   ]
  },
  {
   "cell_type": "code",
   "execution_count": 17,
   "metadata": {},
   "outputs": [
    {
     "data": {
      "text/plain": [
       "{'name': 'CodeAnt AI',\n",
       " 'ef_link': 'https://www.joinef.com/companies/codeant-ai/',\n",
       " 'tags': ['https://www.joinef.com/industry/ai/',\n",
       "  'https://www.joinef.com/industry/developer-tools/'],\n",
       " 'tagline': 'AI to auto-fix bad code and security vulnerabilities.',\n",
       " 'website': ['https://www.codeant.ai/'],\n",
       " 'description': ['CodeAnt AI has developed a',\n",
       "  'line-by-line code reviewer',\n",
       "  'that saves developers time, and targets security vulnerabilities.',\n",
       "  'Their AI Code Reviewer detects and auto-fixes code quality issues, highlighting best practices and anti-pattern violations for',\n",
       "  'over 30 languages.',\n",
       "  'Using an integration from developers’ IDEs to Pull Requests, CodeAnt AI’s code-quality tool acts as a',\n",
       "  'clean code enforcer,',\n",
       "  'ensuring bad code is never pushed again.']}"
      ]
     },
     "execution_count": 17,
     "metadata": {},
     "output_type": "execute_result"
    }
   ],
   "source": [
    "# Looping through the companies and getting the data, might take a bit of time\n",
    "# Since requests are performed sequentially (took around 1m 27s on my run)\n",
    "final_companies = []\n",
    "\n",
    "for company in companies:\n",
    "    cookies = {\n",
    "        'cookieyes-consent': 'consentid:TGRZeW1mSkQyeExVUVloUnhCeXhidUZBRVVmN3FaSkM,consent:no,action:yes,necessary:yes,functional:no,analytics:no,performance:no,advertisement:no,other:no',\n",
    "        'visitor_id1032441': '59950924',\n",
    "        'visitor_id1032441-hash': 'b559b102cf45a5f7a2c59fb7eccb31eb16eda5a2e1120abfa19143166a9aee4c1f93f28e0af2f32c85d4be65d6b1ca4e18eafade',\n",
    "    }\n",
    "\n",
    "    headers = {\n",
    "        'accept': 'text/html,application/xhtml+xml,application/xml;q=0.9,image/avif,image/webp,image/apng,*/*;q=0.8,application/signed-exchange;v=b3;q=0.7',\n",
    "        'accept-language': 'en-US,en;q=0.9',\n",
    "        'cache-control': 'no-cache',\n",
    "        # 'cookie': 'cookieyes-consent=consentid:TGRZeW1mSkQyeExVUVloUnhCeXhidUZBRVVmN3FaSkM,consent:no,action:yes,necessary:yes,functional:no,analytics:no,performance:no,advertisement:no,other:no; visitor_id1032441=59950924; visitor_id1032441-hash=b559b102cf45a5f7a2c59fb7eccb31eb16eda5a2e1120abfa19143166a9aee4c1f93f28e0af2f32c85d4be65d6b1ca4e18eafade',\n",
    "        'pragma': 'no-cache',\n",
    "        'priority': 'u=0, i',\n",
    "        'referer': 'https://www.joinef.com/portfolio/?pagenum=3',\n",
    "        'sec-ch-ua': '\"Chromium\";v=\"129\", \"Not=A?Brand\";v=\"8\"',\n",
    "        'sec-ch-ua-mobile': '?0',\n",
    "        'sec-ch-ua-platform': '\"Linux\"',\n",
    "        'sec-fetch-dest': 'document',\n",
    "        'sec-fetch-mode': 'navigate',\n",
    "        'sec-fetch-site': 'same-origin',\n",
    "        'sec-fetch-user': '?1',\n",
    "        'sec-gpc': '1',\n",
    "        'upgrade-insecure-requests': '1',\n",
    "        'user-agent': 'Mozilla/5.0 (X11; Linux x86_64) AppleWebKit/537.36 (KHTML, like Gecko) Chrome/129.0.0.0 Safari/537.36',\n",
    "    }\n",
    "    \n",
    "    response = requests.get(\n",
    "        company[\"ef_link\"], cookies=cookies, headers=headers\n",
    "    )\n",
    "    extra_data = extract_extra_ef_info(response.text)\n",
    "\n",
    "    final_companies.append(company | extra_data)\n",
    "\n",
    "final_companies[0]"
   ]
  },
  {
   "cell_type": "code",
   "execution_count": 20,
   "metadata": {},
   "outputs": [],
   "source": [
    "with open(DATA_DIR / \"ef_final.json\", \"w\") as f:\n",
    "    json.dump(final_companies, f)"
   ]
  }
 ],
 "metadata": {
  "kernelspec": {
   "display_name": ".venv",
   "language": "python",
   "name": "python3"
  },
  "language_info": {
   "codemirror_mode": {
    "name": "ipython",
    "version": 3
   },
   "file_extension": ".py",
   "mimetype": "text/x-python",
   "name": "python",
   "nbconvert_exporter": "python",
   "pygments_lexer": "ipython3",
   "version": "3.11.9"
  }
 },
 "nbformat": 4,
 "nbformat_minor": 2
}
