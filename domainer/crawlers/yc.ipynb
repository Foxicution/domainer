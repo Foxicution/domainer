{
 "cells": [
  {
   "cell_type": "code",
   "execution_count": 13,
   "metadata": {},
   "outputs": [],
   "source": [
    "from domainer.config import DATA_TMP_DIR, DATA_DIR\n",
    "from lxml.etree import HTML\n",
    "import httpx\n",
    "import json"
   ]
  },
  {
   "cell_type": "code",
   "execution_count": 3,
   "metadata": {},
   "outputs": [
    {
     "data": {
      "text/plain": [
       "['S24', 'W24', 'S23', 'W23', 'S22', 'W22', 'S21', 'W21', 'S20', 'W20']"
      ]
     },
     "execution_count": 3,
     "metadata": {},
     "output_type": "execute_result"
    }
   ],
   "source": [
    "# Extracting raw batch names\n",
    "raw_html = \"\"\"\n",
    "<div class=\"_facet_86jzd_85\"><h4>Batch </h4><div class=\"_collapseToggle_86jzd_256\"><svg aria-hidden=\"true\" focusable=\"false\" data-prefix=\"fas\" data-icon=\"square-minus\" class=\"svg-inline--fa fa-square-minus \" role=\"img\" xmlns=\"http://www.w3.org/2000/svg\" viewBox=\"0 0 448 512\"><path fill=\"currentColor\" d=\"M64 32C28.7 32 0 60.7 0 96V416c0 35.3 28.7 64 64 64H384c35.3 0 64-28.7 64-64V96c0-35.3-28.7-64-64-64H64zm88 200H296c13.3 0 24 10.7 24 24s-10.7 24-24 24H152c-13.3 0-24-10.7-24-24s10.7-24 24-24z\"></path></svg></div><label><input type=\"checkbox\" checked=\"\"><span class=\"_label_86jzd_224\">All batches</span><span class=\"_count_86jzd_290\">4854</span></label><div><label><input type=\"checkbox\"><span class=\"_label_86jzd_224\">S24</span><span class=\"_count_86jzd_290\">187</span></label></div><div><label><input type=\"checkbox\"><span class=\"_label_86jzd_224\">W24</span><span class=\"_count_86jzd_290\">251</span></label></div><div><label><input type=\"checkbox\"><span class=\"_label_86jzd_224\">S23</span><span class=\"_count_86jzd_290\">218</span></label></div><div><label><input type=\"checkbox\"><span class=\"_label_86jzd_224\">W23</span><span class=\"_count_86jzd_290\">274</span></label></div><div><label><input type=\"checkbox\"><span class=\"_label_86jzd_224\">S22</span><span class=\"_count_86jzd_290\">236</span></label></div><div><label><input type=\"checkbox\"><span class=\"_label_86jzd_224\">W22</span><span class=\"_count_86jzd_290\">402</span></label></div><div><label><input type=\"checkbox\"><span class=\"_label_86jzd_224\">S21</span><span class=\"_count_86jzd_290\">391</span></label></div><div><label><input type=\"checkbox\"><span class=\"_label_86jzd_224\">W21</span><span class=\"_count_86jzd_290\">337</span></label></div><div><label><input type=\"checkbox\"><span class=\"_label_86jzd_224\">S20</span><span class=\"_count_86jzd_290\">207</span></label></div><div><label><input type=\"checkbox\"><span class=\"_label_86jzd_224\">W20</span><span class=\"_count_86jzd_290\">228</span></label></div><div><label><input type=\"checkbox\"><span class=\"_label_86jzd_224\">S19</span><span class=\"_count_86jzd_290\">175</span></label></div><div><label><input type=\"checkbox\"><span class=\"_label_86jzd_224\">W19</span><span class=\"_count_86jzd_290\">196</span></label></div><div><label><input type=\"checkbox\"><span class=\"_label_86jzd_224\">S18</span><span class=\"_count_86jzd_290\">132</span></label></div><div><label><input type=\"checkbox\"><span class=\"_label_86jzd_224\">W18</span><span class=\"_count_86jzd_290\">147</span></label></div><div><label><input type=\"checkbox\"><span class=\"_label_86jzd_224\">S17</span><span class=\"_count_86jzd_290\">125</span></label></div><div><label><input type=\"checkbox\"><span class=\"_label_86jzd_224\">W17</span><span class=\"_count_86jzd_290\">116</span></label></div><div><label><input type=\"checkbox\"><span class=\"_label_86jzd_224\">IK12</span><span class=\"_count_86jzd_290\">77</span></label></div><div><label><input type=\"checkbox\"><span class=\"_label_86jzd_224\">S16</span><span class=\"_count_86jzd_290\">103</span></label></div><div><label><input type=\"checkbox\"><span class=\"_label_86jzd_224\">W16</span><span class=\"_count_86jzd_290\">122</span></label></div><div><label><input type=\"checkbox\"><span class=\"_label_86jzd_224\">S15</span><span class=\"_count_86jzd_290\">105</span></label></div><div><label><input type=\"checkbox\"><span class=\"_label_86jzd_224\">W15</span><span class=\"_count_86jzd_290\">111</span></label></div><div><label><input type=\"checkbox\"><span class=\"_label_86jzd_224\">S14</span><span class=\"_count_86jzd_290\">80</span></label></div><div><label><input type=\"checkbox\"><span class=\"_label_86jzd_224\">W14</span><span class=\"_count_86jzd_290\">74</span></label></div><div><label><input type=\"checkbox\"><span class=\"_label_86jzd_224\">S13</span><span class=\"_count_86jzd_290\">52</span></label></div><div><label><input type=\"checkbox\"><span class=\"_label_86jzd_224\">W13</span><span class=\"_count_86jzd_290\">46</span></label></div><div><label><input type=\"checkbox\"><span class=\"_label_86jzd_224\">S12</span><span class=\"_count_86jzd_290\">82</span></label></div><div><label><input type=\"checkbox\"><span class=\"_label_86jzd_224\">W12</span><span class=\"_count_86jzd_290\">66</span></label></div><div><label><input type=\"checkbox\"><span class=\"_label_86jzd_224\">S11</span><span class=\"_count_86jzd_290\">60</span></label></div><div><label><input type=\"checkbox\"><span class=\"_label_86jzd_224\">W11</span><span class=\"_count_86jzd_290\">45</span></label></div><div><label><input type=\"checkbox\"><span class=\"_label_86jzd_224\">S10</span><span class=\"_count_86jzd_290\">36</span></label></div><div><label><input type=\"checkbox\"><span class=\"_label_86jzd_224\">W10</span><span class=\"_count_86jzd_290\">27</span></label></div><div><label><input type=\"checkbox\"><span class=\"_label_86jzd_224\">S09</span><span class=\"_count_86jzd_290\">26</span></label></div><div><label><input type=\"checkbox\"><span class=\"_label_86jzd_224\">W09</span><span class=\"_count_86jzd_290\">16</span></label></div><div><label><input type=\"checkbox\"><span class=\"_label_86jzd_224\">S08</span><span class=\"_count_86jzd_290\">22</span></label></div><div><label><input type=\"checkbox\"><span class=\"_label_86jzd_224\">W08</span><span class=\"_count_86jzd_290\">21</span></label></div><div><label><input type=\"checkbox\"><span class=\"_label_86jzd_224\">S07</span><span class=\"_count_86jzd_290\">19</span></label></div><div><label><input type=\"checkbox\"><span class=\"_label_86jzd_224\">W07</span><span class=\"_count_86jzd_290\">13</span></label></div><div><label><input type=\"checkbox\"><span class=\"_label_86jzd_224\">S06</span><span class=\"_count_86jzd_290\">11</span></label></div><div><label><input type=\"checkbox\"><span class=\"_label_86jzd_224\">W06</span><span class=\"_count_86jzd_290\">7</span></label></div><div><label><input type=\"checkbox\"><span class=\"_label_86jzd_224\">S05</span><span class=\"_count_86jzd_290\">8</span></label></div><a href=\"#\" class=\"_showMoreLess_86jzd_240\">See fewer options</a></div>\n",
    "\"\"\"\n",
    "\n",
    "batches = HTML(raw_html).xpath(\"//label/span[1]/text()\")[1:]\n",
    "batches[:10]"
   ]
  },
  {
   "cell_type": "code",
   "execution_count": 4,
   "metadata": {},
   "outputs": [],
   "source": [
    "# Extracting raw batch data and saving it as json files \n",
    "headers = {\n",
    "    'Accept-Language': 'en-US,en;q=0.9',\n",
    "    'Cache-Control': 'no-cache',\n",
    "    'Connection': 'keep-alive',\n",
    "    'Origin': 'https://www.ycombinator.com',\n",
    "    'Pragma': 'no-cache',\n",
    "    'Referer': 'https://www.ycombinator.com/',\n",
    "    'Sec-Fetch-Dest': 'empty',\n",
    "    'Sec-Fetch-Mode': 'cors',\n",
    "    'Sec-Fetch-Site': 'cross-site',\n",
    "    'User-Agent': 'Mozilla/5.0 (X11; Linux x86_64) AppleWebKit/537.36 (KHTML, like Gecko) Chrome/125.0.0.0 Safari/537.36',\n",
    "    'accept': 'application/json',\n",
    "    'content-type': 'application/x-www-form-urlencoded',\n",
    "    'sec-ch-ua': '\"Chromium\";v=\"125\", \"Not.A/Brand\";v=\"24\"',\n",
    "    'sec-ch-ua-mobile': '?0',\n",
    "    'sec-ch-ua-platform': '\"Linux\"',\n",
    "    'sec-gpc': '1',\n",
    "}\n",
    "\n",
    "for batch in batches:\n",
    "    data = '{\"requests\":[{\"indexName\":\"YCCompany_production\",\"params\":\"facetFilters=%5B%5B%22batch%3A'+ batch + '%22%5D%5D&facets=%5B%22app_answers%22%2C%22app_video_public%22%2C%22batch%22%2C%22demo_day_video_public%22%2C%22highlight_black%22%2C%22highlight_latinx%22%2C%22highlight_women%22%2C%22industries%22%2C%22isHiring%22%2C%22nonprofit%22%2C%22question_answers%22%2C%22regions%22%2C%22subindustry%22%2C%22tags%22%2C%22top_company%22%5D&hitsPerPage=1000&maxValuesPerFacet=1000&page=0&query=&tagFilters=\"},{\"indexName\":\"YCCompany_production\",\"params\":\"analytics=false&clickAnalytics=false&facets=batch&hitsPerPage=0&maxValuesPerFacet=1000&page=0&query=\"}]}'\n",
    "\n",
    "    response = httpx.post(\n",
    "        'https://45bwzj1sgc-dsn.algolia.net/1/indexes/*/queries?x-algolia-agent=Algolia%20for%20JavaScript%20(3.35.1)%3B%20Browser%3B%20JS%20Helper%20(3.16.1)&x-algolia-application-id=45BWZJ1SGC&x-algolia-api-key=MjBjYjRiMzY0NzdhZWY0NjExY2NhZjYxMGIxYjc2MTAwNWFkNTkwNTc4NjgxYjU0YzFhYTY2ZGQ5OGY5NDMxZnJlc3RyaWN0SW5kaWNlcz0lNUIlMjJZQ0NvbXBhbnlfcHJvZHVjdGlvbiUyMiUyQyUyMllDQ29tcGFueV9CeV9MYXVuY2hfRGF0ZV9wcm9kdWN0aW9uJTIyJTVEJnRhZ0ZpbHRlcnM9JTVCJTIyeWNkY19wdWJsaWMlMjIlNUQmYW5hbHl0aWNzVGFncz0lNUIlMjJ5Y2RjJTIyJTVE',\n",
    "        headers=headers,\n",
    "        data=data,\n",
    "    )\n",
    "\n",
    "    with open(DATA_TMP_DIR / f\"{batch}.json\", \"w\") as f:\n",
    "        json.dump(response.json(), f)"
   ]
  },
  {
   "cell_type": "code",
   "execution_count": 5,
   "metadata": {},
   "outputs": [
    {
     "data": {
      "text/plain": [
       "4921"
      ]
     },
     "execution_count": 5,
     "metadata": {},
     "output_type": "execute_result"
    }
   ],
   "source": [
    "# Extracting company data from raw json files\n",
    "companies = []\n",
    "for batch in batches:\n",
    "    path = DATA_TMP_DIR / f\"{batch}.json\"\n",
    "    with open(path) as f:\n",
    "        companies += json.load(f)[\"results\"][0][\"hits\"]\n",
    "len(companies)"
   ]
  },
  {
   "cell_type": "code",
   "execution_count": 6,
   "metadata": {},
   "outputs": [
    {
     "data": {
      "text/plain": [
       "{'id': 29992,\n",
       " 'name': 'Outerport',\n",
       " 'slug': 'outerport',\n",
       " 'former_names': ['haipera', 'Haipera', 'Outerbasis'],\n",
       " 'small_logo_thumb_url': 'https://bookface-images.s3.amazonaws.com/small_logos/b04f0fee59f28a3fa66d41bb63e4aef150ce2812.png',\n",
       " 'website': 'https://outerport.com',\n",
       " 'all_locations': 'San Francisco, CA, USA',\n",
       " 'long_description': 'Outerport lets companies use their GPUs more efficiently by making it easy for them to be swapped from task to task. Just like how VMWare made it easy to put multiple users on a single server machine, we make it easy to put multiple AI models on a single GPU. Rather than having separate sets of GPUs for each task, you can buy less GPUs and make better use of it.\\r\\n\\r\\nHot swap foundation model weights instantly, minimize cold starts, scale horizontally, maintain version control, secure your models on a central registry, perform A/B tests, and save 40% on GPU costs. ',\n",
       " 'one_liner': 'VMware for GPUs',\n",
       " 'team_size': 2,\n",
       " 'industry': 'B2B',\n",
       " 'subindustry': 'B2B -> Infrastructure',\n",
       " 'launched_at': 1721673756,\n",
       " 'tags': ['AIOps',\n",
       "  'Artificial Intelligence',\n",
       "  'Developer Tools',\n",
       "  'SaaS',\n",
       "  'Infrastructure'],\n",
       " 'tags_highlighted': [],\n",
       " 'top_company': False,\n",
       " 'isHiring': False,\n",
       " 'nonprofit': False,\n",
       " 'batch': 'S24',\n",
       " 'status': 'Active',\n",
       " 'industries': ['B2B', 'Infrastructure'],\n",
       " 'regions': ['United States of America',\n",
       "  'America / Canada',\n",
       "  'Remote',\n",
       "  'Partly Remote'],\n",
       " 'stage': 'Early',\n",
       " 'app_video_public': False,\n",
       " 'demo_day_video_public': False,\n",
       " 'app_answers': None,\n",
       " 'question_answers': False,\n",
       " 'objectID': '29992',\n",
       " '_highlightResult': {'name': {'value': 'Outerport',\n",
       "   'matchLevel': 'none',\n",
       "   'matchedWords': []},\n",
       "  'former_names': [{'value': 'haipera',\n",
       "    'matchLevel': 'none',\n",
       "    'matchedWords': []},\n",
       "   {'value': 'Haipera', 'matchLevel': 'none', 'matchedWords': []},\n",
       "   {'value': 'Outerbasis', 'matchLevel': 'none', 'matchedWords': []}],\n",
       "  'website': {'value': 'https://outerport.com',\n",
       "   'matchLevel': 'none',\n",
       "   'matchedWords': []},\n",
       "  'all_locations': {'value': 'San Francisco, CA, USA',\n",
       "   'matchLevel': 'none',\n",
       "   'matchedWords': []},\n",
       "  'long_description': {'value': 'Outerport lets companies use their GPUs more efficiently by making it easy for them to be swapped from task to task. Just like how VMWare made it easy to put multiple users on a single server machine, we make it easy to put multiple AI models on a single GPU. Rather than having separate sets of GPUs for each task, you can buy less GPUs and make better use of it.\\r\\n\\r\\nHot swap foundation model weights instantly, minimize cold starts, scale horizontally, maintain version control, secure your models on a central registry, perform A/B tests, and save 40% on GPU costs. ',\n",
       "   'matchLevel': 'none',\n",
       "   'matchedWords': []},\n",
       "  'one_liner': {'value': 'VMware for GPUs',\n",
       "   'matchLevel': 'none',\n",
       "   'matchedWords': []},\n",
       "  'tags': [{'value': 'AIOps', 'matchLevel': 'none', 'matchedWords': []},\n",
       "   {'value': 'Artificial Intelligence',\n",
       "    'matchLevel': 'none',\n",
       "    'matchedWords': []},\n",
       "   {'value': 'Developer Tools', 'matchLevel': 'none', 'matchedWords': []},\n",
       "   {'value': 'SaaS', 'matchLevel': 'none', 'matchedWords': []},\n",
       "   {'value': 'Infrastructure', 'matchLevel': 'none', 'matchedWords': []}]}}"
      ]
     },
     "execution_count": 6,
     "metadata": {},
     "output_type": "execute_result"
    }
   ],
   "source": [
    "companies[0]"
   ]
  },
  {
   "cell_type": "code",
   "execution_count": 11,
   "metadata": {},
   "outputs": [
    {
     "data": {
      "text/plain": [
       "{'one_liner': 'VMware for GPUs',\n",
       " 'website': 'https://outerport.com',\n",
       " 'long_description': 'Outerport lets companies use their GPUs more efficiently by making it easy for them to be swapped from task to task. Just like how VMWare made it easy to put multiple users on a single server machine, we make it easy to put multiple AI models on a single GPU. Rather than having separate sets of GPUs for each task, you can buy less GPUs and make better use of it.\\r\\n\\r\\nHot swap foundation model weights instantly, minimize cold starts, scale horizontally, maintain version control, secure your models on a central registry, perform A/B tests, and save 40% on GPU costs. '}"
      ]
     },
     "execution_count": 11,
     "metadata": {},
     "output_type": "execute_result"
    }
   ],
   "source": [
    "# leaving only the name, website and one_liner data for the company\n",
    "clean_companies = [\n",
    "    {key: company[key] for key in [\"one_liner\", \"website\", \"long_description\"]}\n",
    "    for company in companies\n",
    "]\n",
    "clean_companies[0]"
   ]
  },
  {
   "cell_type": "code",
   "execution_count": 14,
   "metadata": {},
   "outputs": [],
   "source": [
    "# writing clean company data to a file\n",
    "with open(DATA_DIR / \"yc_final.json\", \"w\") as f:\n",
    "    json.dump(clean_companies, f)"
   ]
  }
 ],
 "metadata": {
  "kernelspec": {
   "display_name": ".venv",
   "language": "python",
   "name": "python3"
  },
  "language_info": {
   "codemirror_mode": {
    "name": "ipython",
    "version": 3
   },
   "file_extension": ".py",
   "mimetype": "text/x-python",
   "name": "python",
   "nbconvert_exporter": "python",
   "pygments_lexer": "ipython3",
   "version": "3.11.9"
  }
 },
 "nbformat": 4,
 "nbformat_minor": 2
}
