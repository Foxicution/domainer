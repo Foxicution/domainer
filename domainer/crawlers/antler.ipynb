{
 "cells": [
  {
   "cell_type": "code",
   "execution_count": 7,
   "metadata": {},
   "outputs": [],
   "source": [
    "from lxml.etree import HTML\n",
    "from collections import defaultdict\n",
    "import requests\n",
    "import json\n",
    "from domainer.config import DATA_DIR"
   ]
  },
  {
   "cell_type": "code",
   "execution_count": 8,
   "metadata": {},
   "outputs": [],
   "source": [
    "# company processing logic\n",
    "def process_element(el) -> dict:\n",
    "    fields = defaultdict(list)\n",
    "    main_div = el.xpath(\".//div[@class='blog34_item']\")[0]\n",
    "    for item in main_div.xpath(\".//*[@fs-cmsfilter-field]\"):\n",
    "        key = item.xpath(\"./@fs-cmsfilter-field\")[0]\n",
    "        value = item.xpath(\".//text()\")\n",
    "        if value:\n",
    "            fields[key] = fields[key] + value\n",
    "    return {\n",
    "        \"name\": main_div.xpath(\".//h5/text()\")[0].strip(),\n",
    "        \"website\": main_div.xpath(\"./a/@href\")[0],\n",
    "    } | dict(fields)"
   ]
  },
  {
   "cell_type": "code",
   "execution_count": 9,
   "metadata": {},
   "outputs": [
    {
     "data": {
      "text/plain": [
       "1027"
      ]
     },
     "execution_count": 9,
     "metadata": {},
     "output_type": "execute_result"
    }
   ],
   "source": [
    "companies = []\n",
    "\n",
    "for i in range(1, 20):\n",
    "    cookies = {\n",
    "        \"WG_CHOOSE_ORIGINAL\": \"1\",\n",
    "    }\n",
    "\n",
    "    headers = {\n",
    "        \"accept\": \"text/html,application/xhtml+xml,application/xml;q=0.9,image/avif,image/webp,image/apng,*/*;q=0.8,application/signed-exchange;v=b3;q=0.7\",\n",
    "        \"accept-language\": \"en-US,en;q=0.9\",\n",
    "        \"cache-control\": \"no-cache\",\n",
    "        # 'cookie': 'WG_CHOOSE_ORIGINAL=1',\n",
    "        \"pragma\": \"no-cache\",\n",
    "        \"priority\": \"u=0, i\",\n",
    "        \"sec-ch-ua\": '\"Chromium\";v=\"125\", \"Not.A/Brand\";v=\"24\"',\n",
    "        \"sec-ch-ua-mobile\": \"?0\",\n",
    "        \"sec-ch-ua-platform\": '\"Linux\"',\n",
    "        \"sec-fetch-dest\": \"document\",\n",
    "        \"sec-fetch-mode\": \"navigate\",\n",
    "        \"sec-fetch-site\": \"none\",\n",
    "        \"sec-fetch-user\": \"?1\",\n",
    "        \"sec-gpc\": \"1\",\n",
    "        \"upgrade-insecure-requests\": \"1\",\n",
    "        \"user-agent\": \"Mozilla/5.0 (X11; Linux x86_64) AppleWebKit/537.36 (KHTML, like Gecko) Chrome/125.0.0.0 Safari/537.36\",\n",
    "    }\n",
    "\n",
    "    params = {\n",
    "        \"a7511bde_page\": str(i),\n",
    "    }\n",
    "\n",
    "    response = requests.get(\n",
    "        \"https://www.antler.co/portfolio\",\n",
    "        params=params,\n",
    "        cookies=cookies,\n",
    "        headers=headers,\n",
    "    )\n",
    "    tree = HTML(response.text)\n",
    "    companies += [\n",
    "        process_element(el)\n",
    "        for el in tree.xpath(\n",
    "            \"//div[@role='listitem' and @class='w-dyn-item' and .//a[contains(@href, '/portfolio-companies')]]\"\n",
    "        )\n",
    "    ]\n",
    "\n",
    "len(companies)"
   ]
  },
  {
   "cell_type": "code",
   "execution_count": 10,
   "metadata": {},
   "outputs": [
    {
     "data": {
      "text/plain": [
       "{'name': '12iD',\n",
       " 'website': 'https://www.12iD.com',\n",
       " 'location': ['Sweden'],\n",
       " 'sector': ['Fintech'],\n",
       " 'description': ['12iD provides a solution to issue digital identities and to identify users remotely and uniquely.']}"
      ]
     },
     "execution_count": 10,
     "metadata": {},
     "output_type": "execute_result"
    }
   ],
   "source": [
    "companies[0]"
   ]
  },
  {
   "cell_type": "code",
   "execution_count": 11,
   "metadata": {},
   "outputs": [],
   "source": [
    "with open(DATA_DIR / \"antler_final.json\", \"w\") as f:\n",
    "    json.dump(companies, f)"
   ]
  }
 ],
 "metadata": {
  "kernelspec": {
   "display_name": ".venv",
   "language": "python",
   "name": "python3"
  },
  "language_info": {
   "codemirror_mode": {
    "name": "ipython",
    "version": 3
   },
   "file_extension": ".py",
   "mimetype": "text/x-python",
   "name": "python",
   "nbconvert_exporter": "python",
   "pygments_lexer": "ipython3",
   "version": "3.11.9"
  }
 },
 "nbformat": 4,
 "nbformat_minor": 2
}
