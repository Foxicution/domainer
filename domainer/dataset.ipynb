{
 "cells": [
  {
   "cell_type": "code",
   "execution_count": 14,
   "metadata": {},
   "outputs": [],
   "source": [
    "import json\n",
    "from dataclasses import dataclass, asdict\n",
    "from domainer.config import DATA_DIR\n",
    "import re\n",
    "import pandas as pd\n",
    "from sklearn.model_selection import train_test_split"
   ]
  },
  {
   "cell_type": "code",
   "execution_count": 2,
   "metadata": {},
   "outputs": [],
   "source": [
    "@dataclass\n",
    "class Company:\n",
    "    # TODO: add more validations to the domain\n",
    "    domain: str\n",
    "    description: str\n",
    "\n",
    "companies = []"
   ]
  },
  {
   "cell_type": "code",
   "execution_count": 3,
   "metadata": {},
   "outputs": [
    {
     "data": {
      "text/plain": [
       "{'name': '12iD',\n",
       " 'website': 'https://www.12iD.com',\n",
       " 'location': ['Sweden'],\n",
       " 'sector': ['Fintech'],\n",
       " 'description': ['12iD provides a solution to issue digital identities and to identify users remotely and uniquely.']}"
      ]
     },
     "execution_count": 3,
     "metadata": {},
     "output_type": "execute_result"
    }
   ],
   "source": [
    "# crawled with crawlers/antler.ipynb\n",
    "with open(DATA_DIR / \"antler_final.json\") as f:\n",
    "    antler_data = json.load(f)\n",
    "\n",
    "antler_data[0]"
   ]
  },
  {
   "cell_type": "code",
   "execution_count": 4,
   "metadata": {},
   "outputs": [],
   "source": [
    "# cleaning the data to only leave the top and second level domain as well as \n",
    "# removing any instances of second level domain from the description\n",
    "\n",
    "def website_to_levels(website: str) -> tuple[str, str]:\n",
    "    lvl2, lvl1 = website.split(\".\")[-2:]\n",
    "    lvl2 = lvl2.replace(\"https://\", \"\").replace(\"http://\", \"\")\n",
    "    lvl1 = lvl1.replace(\"/\", \"\")\n",
    "    return lvl1, lvl2\n",
    "\n",
    "def clean_description(description: str, domain_level_2: str) -> str:\n",
    "    # If the company already has a name, then using that as the domain name is probably best.\n",
    "    # description = description.replace(domain_level_2, \"\")\n",
    "    # description = re.sub(re.escape(domain_level_2), \"\", description, flags=re.IGNORECASE)\n",
    "    return re.sub(r'\\s+', ' ', description).strip()\n",
    "    \n",
    "\n",
    "def clean_antler(data: dict[str, str]) -> Company:\n",
    "    lvl1, lvl2 = website_to_levels(data[\"website\"])\n",
    "    description = clean_description(data[\"description\"][0], lvl2)\n",
    "    domain_name = f\"{lvl2}.{lvl1}\"\n",
    "    return Company(domain_name, description)\n",
    "\n",
    "for data in antler_data:\n",
    "    companies.append(clean_antler(data))"
   ]
  },
  {
   "cell_type": "code",
   "execution_count": 5,
   "metadata": {},
   "outputs": [
    {
     "data": {
      "text/plain": [
       "[Company(domain='12iD.com', description='12iD provides a solution to issue digital identities and to identify users remotely and uniquely.'),\n",
       " Company(domain='913.ai', description='A unified platform to build, test, and integrate custom AI agents to handle all your workflows and knowledge.'),\n",
       " Company(domain='ai-fluence.com', description=\"Africa's 1st AI-Driven Influencer Marketing Platform\"),\n",
       " Company(domain='aikacollectible.com', description='Aika collectible allows artists, athletes and creators to fuel their growth by tapping into their communities, and for the fansâ\\x80\\x94to invest in their favorites and be part of their success story.'),\n",
       " Company(domain='myalt.shop', description='Meta search engine for Fashion.'),\n",
       " Company(domain='arxsky.com', description='A recoverable self-custody wallet that sets up custom recovery schemes using a unique social recovery protocol based on threshold cryptography.'),\n",
       " Company(domain='avay.se', description='Investment platform for vacation rentals'),\n",
       " Company(domain='aswearenow.co', description='AW:AN (As We Are Now) is a tech-driven DTC brand on a mission to redesign comfortable clothes for women.'),\n",
       " Company(domain='awst.io', description='ArtWallStreet helps brands easily launch their NFT collections.'),\n",
       " Company(domain='abel-studios.com', description='Engaging and original audio entertainment for kids.')]"
      ]
     },
     "execution_count": 5,
     "metadata": {},
     "output_type": "execute_result"
    }
   ],
   "source": [
    "companies[:10]"
   ]
  },
  {
   "cell_type": "code",
   "execution_count": 6,
   "metadata": {},
   "outputs": [
    {
     "data": {
      "text/plain": [
       "{'one_liner': 'VMware for GPUs',\n",
       " 'website': 'https://outerport.com',\n",
       " 'long_description': 'Outerport lets companies use their GPUs more efficiently by making it easy for them to be swapped from task to task. Just like how VMWare made it easy to put multiple users on a single server machine, we make it easy to put multiple AI models on a single GPU. Rather than having separate sets of GPUs for each task, you can buy less GPUs and make better use of it.\\r\\n\\r\\nHot swap foundation model weights instantly, minimize cold starts, scale horizontally, maintain version control, secure your models on a central registry, perform A/B tests, and save 40% on GPU costs. '}"
      ]
     },
     "execution_count": 6,
     "metadata": {},
     "output_type": "execute_result"
    }
   ],
   "source": [
    "# crawled with crawlers/yc.ipynb\n",
    "with open(DATA_DIR / \"yc_final.json\") as f:\n",
    "    yc_data = json.load(f)\n",
    "\n",
    "yc_data[0]"
   ]
  },
  {
   "cell_type": "code",
   "execution_count": 7,
   "metadata": {},
   "outputs": [
    {
     "data": {
      "text/plain": [
       "10279"
      ]
     },
     "execution_count": 7,
     "metadata": {},
     "output_type": "execute_result"
    }
   ],
   "source": [
    "def clean_yc(data: dict[str, str]) -> list[Company]:\n",
    "    if not data[\"website\"]:\n",
    "        return []\n",
    "    \n",
    "    try:\n",
    "        lvl1, lvl2 = website_to_levels(data[\"website\"])\n",
    "    except Exception:\n",
    "        return []\n",
    "    \n",
    "    out = []\n",
    "    domain_name = f\"{lvl2}.{lvl1}\"\n",
    "\n",
    "    if desc:=data[\"long_description\"]:\n",
    "        long_description = clean_description(desc, lvl2)\n",
    "        out.append(Company(domain_name, long_description))\n",
    "\n",
    "    if desc:=data[\"one_liner\"]:\n",
    "        short_description = clean_description(desc, lvl2)\n",
    "        out.append(Company(domain_name, short_description))\n",
    "\n",
    "    return out\n",
    "\n",
    "for data in yc_data:\n",
    "    companies.extend(clean_yc(data))\n",
    "\n",
    "len(companies)"
   ]
  },
  {
   "cell_type": "code",
   "execution_count": 8,
   "metadata": {},
   "outputs": [
    {
     "data": {
      "text/plain": [
       "[Company(domain='snipshot.com', description='We sold Snipshot to Ansa in 2013.'),\n",
       " Company(domain='reddit.com', description='Founded by Steve Huffman and Alexis Ohanian in 2005, Reddit is an online community where users submit, vote, and comment on content, news, and discussions. Nicknamed \"the front page of the internet,\"\\u200b Reddit is one of the top ten sites in the United States (source: Alexa), with hundreds of millions of users each month on desktop, mobile web, and our official Android/iOS apps. Interested in joining our growing team? Check out about.reddit.com/careers'),\n",
       " Company(domain='reddit.com', description='The frontpage of the internet.'),\n",
       " Company(domain='kiko.com', description='Kiko is a web calendar for anyone who wants to keep and share a calendar online. Kiko excels at three main things: * Universal access: Kiko integrates with your mobile phone and AIM and lets you access your calendar from any computer. * Share your calendar: Invite anyone to events (not just other Kiko users!) Let others view your calendar with just a click. * As easy as paper - or maybe easier: Write \"Pay gas bill every month\" onto your calendar and watch Kiko do the Right Thing!'),\n",
       " Company(domain='kiko.com', description=\"We're the best online calendar solution to ever exist. Period.\"),\n",
       " Company(domain='clickfacts.com', description='ClickFacts is a Malware Software Solutions company for buyers and sellers of online media. Its automated plug and play malware discovery solution tests online ads (SWFs & 3rd Party Ad Tags) and web pages within websites to ensure they do not distribute malware onto usersâ€™ computers (which can lead to identity theft). Its moderation software solution monitors websites to ensure the ads running on them are free of inappropriate content (e.g., nudity, racism), and its Ad Buddy product provides to advertisers real-time continuous monitoring and a complete history of where their ads have run. ClickFacts Inc. was founded in 2005 by Mikhail Ledvich, Mikhail Gurevich, and Greg Gurevich in Boston Mass, with initial funding by YCombinator. It is now based in San Francisco, California.'),\n",
       " Company(domain='textpayme.com', description='Founded in 2005, TextPayMe is an SMS payment service that lets you send money to other people using cell phone text messaging. TextPayMe lets you send money to anyone else in the US with an SMS-capable cell phone, and while phone carriers may charge for the actual text message sent/received, sending and receiving money is free while TextPayMe remains in Beta. In July 2006, the TextPayMe team started working for Amazon and, as of 2011, the site redirects to an Amazon\\'s mobile payment website. There was no press release related to this event but it\\'s assumed the company was acquired. Sending and receiving payments through TextPayMe is easy: simply write a text message to SMS@TextPayMe.com with \"pay amount phonenumber\" in the body (i.e. to send $5 to 123-456-7890, text \"pay 5 1234567890\"). The service is secure as well, as each payment needs to be confirmed by a user-created PIN. To fund your transactions, TextPayMe lets you add money directly from your bank account and now also lets you link your credit card as well. Currently, the maximum amount that can be sent or received per month is $500.'),\n",
       " Company(domain='loopt.com', description='Loopt, based in Silicon-Valley and backed by leading venture capital firms Sequoia Capital and New Enterprise Associates, has created an interoperable social-mapping service that allows individuals to use their location to discover the real world around them – enabling them to find and enjoy the people, places, and events that mean the most right here and now using their mobile phones. With Loopt, individuals will always know who’s around, what to do, or where to go'),\n",
       " Company(domain='infogami.com', description='What is Infogami? The art of transforming data into meaningful information. Infogami Business Intelligence (BI) solutions turn raw data into information that enables businesses to gain insights, improve decision making, reduce costs and support strategic objectives. Subject matter expertise is central to the Infogami ethos. The ability to communicate effectively and understand requirements, separates Infogami from other BI solutions. Bridging the gap between information and collaboration, Infogami solutions enhance collaborative decision making and interaction. This improves the communication and information sharing process within an organisation.'),\n",
       " Company(domain='memamp.com', description='Better Desktop search solution.')]"
      ]
     },
     "execution_count": 8,
     "metadata": {},
     "output_type": "execute_result"
    }
   ],
   "source": [
    "companies[-10:]"
   ]
  },
  {
   "cell_type": "code",
   "execution_count": 9,
   "metadata": {},
   "outputs": [
    {
     "data": {
      "text/plain": [
       "{'name': 'CodeAnt AI',\n",
       " 'ef_link': 'https://www.joinef.com/companies/codeant-ai/',\n",
       " 'tags': ['https://www.joinef.com/industry/ai/',\n",
       "  'https://www.joinef.com/industry/developer-tools/'],\n",
       " 'tagline': 'AI to auto-fix bad code and security vulnerabilities.',\n",
       " 'website': ['https://www.codeant.ai/'],\n",
       " 'description': ['CodeAnt AI has developed a',\n",
       "  'line-by-line code reviewer',\n",
       "  'that saves developers time, and targets security vulnerabilities.',\n",
       "  'Their AI Code Reviewer detects and auto-fixes code quality issues, highlighting best practices and anti-pattern violations for',\n",
       "  'over 30 languages.',\n",
       "  'Using an integration from developers’ IDEs to Pull Requests, CodeAnt AI’s code-quality tool acts as a',\n",
       "  'clean code enforcer,',\n",
       "  'ensuring bad code is never pushed again.']}"
      ]
     },
     "execution_count": 9,
     "metadata": {},
     "output_type": "execute_result"
    }
   ],
   "source": [
    "# crawled with crawlers/ef.ipynb\n",
    "with open(DATA_DIR / \"ef_final.json\") as f:\n",
    "    ef_data = json.load(f)\n",
    "\n",
    "ef_data[0]"
   ]
  },
  {
   "cell_type": "code",
   "execution_count": 10,
   "metadata": {},
   "outputs": [
    {
     "data": {
      "text/plain": [
       "11083"
      ]
     },
     "execution_count": 10,
     "metadata": {},
     "output_type": "execute_result"
    }
   ],
   "source": [
    "def clean_ef(data: dict[str, str]) -> list[Company]:\n",
    "    if not data[\"website\"]:\n",
    "        return []\n",
    "    \n",
    "    lvl1, lvl2 = website_to_levels(data[\"website\"][0])\n",
    "    long_description = clean_description(\" \".join(data[\"description\"]), lvl2)\n",
    "    short_description = clean_description(data[\"tagline\"], lvl2)\n",
    "    domain_name = f\"{lvl2}.{lvl1}\"\n",
    "    return [Company(domain_name, long_description), Company(domain_name, short_description)]\n",
    "\n",
    "for data in ef_data:\n",
    "    companies.extend(clean_ef(data))\n",
    "\n",
    "len(companies)"
   ]
  },
  {
   "cell_type": "code",
   "execution_count": 11,
   "metadata": {},
   "outputs": [
    {
     "data": {
      "text/plain": [
       "[Company(domain='converge.io', description='Converge optimizes concrete operations and materials for the site, factory, and ready mixer by digitizing the physical world of construction with sensors and AI technologies. Construction is one of the world’s most crucial industries, but it’s incredibly inefficient and unsustainable. It accounts for about 8% of global CO 2 emissions, partly due to its heavy reliance on concrete. Low levels of digitization throughout the industry have created massive inefficiencies, contributing to safety issues, errors, and wasted resources. Converge optimizes concrete operations. Using sensors and intelligence platforms, they increase efficiencies across the construction site. These efficiencies include faster build times, reduced material usage, lower embodied carbon, and increased worker safety. They bridge the gap between sustainability and business viability by enabling customers to save money and the planet at the same time.'),\n",
       " Company(domain='converge.io', description='Cutting-edge wireless sensors to help construction companies stay on track.'),\n",
       " Company(domain='atlasmetrics.io', description='Recent increases in regulation and investor pressure have turned ESG reporting into an unavoidable €6B headache in the EU alone. Teams in large and medium companies are struggling with manual processes and a rapidly increasing set of ESG indicators. Atlas Metrics are developing a B2B SAAS product to solve this. It consists of a logic model that can translate raw data into disclosures of leading ESG standards and a technology piece that i) can integrate with company systems to automatically extract data and ii) function as an intelligent workflow tool for the company’s data owners.'),\n",
       " Company(domain='atlasmetrics.io', description=\"Technology to help companies collect, manage, and report on ESG data in compliance with the world's leading impact standards.\"),\n",
       " Company(domain='ackcio.com', description='Ackcio builds reliable wireless monitoring solutions for industrial monitoring applications. The Ackcio Beam suite of products is widely used in construction and mining industries to monitor geotechnical and structural sensors. The Ackcio Beam solution incorporates a long-range, mesh-based, wireless data collection protocol that allows for monitoring of sensors installed in both underground and aboveground environments using a single Gateway. Ackcio Beam has been deployed in multiple projects in 20 countries so far. The use cases range from monitoring the integrity of a tailings dam in a gold mine to monitoring the tilt of a 50m underground tunnel. Ackcio is a deep-tech startup that came to life during the Entrepreneur First (EF) program in Singapore and were part of our first cohort. To-date, they have raised investment funding from prominent investors which includes Wavemaker Partners, SPRING Singapore, AccelerAsia, Aletra Capital Partners and Foudamental.'),\n",
       " Company(domain='ackcio.com', description=\"Extremely reliable, wireless monitoring solutions for the world's most challenging industries.\"),\n",
       " Company(domain='affable.ai', description='Affable is building an end-to-end platform that brings intelligence and automation to influencer marketing. They derive insights about micro influencers and their audience by using cutting edge computer vision algorithms on social media posts. Affable is building the technology that enables one-click influencer marketing at scale, doing to social what Google Adwords did to search.'),\n",
       " Company(domain='affable.ai', description='Leverage AI for your Influencer Marketing Campaigns.'),\n",
       " Company(domain='circuitmind.io', description='Circuit Mind’s intelligent platform enables electronic engineering teams to automatically select optimal components, generate, and redesign candidate schematics in seconds, with fewer errors. From robots to autonomous vehicles and advanced medical systems, electronic devices are the backbone of our civilization’s future. But creating these devices today takes teams of experts months or years of manual, tedious, time consuming, and extremely expensive work. Circuit Mind automate the design process of electronic circuit boards, enabling engineering teams to generate and redesign electronic systems faster and on budget. Circuit Mind’s algorithms search through trillions of combinations, providing error-free circuit design options that optimise for cost, size, power, function, availability, performance, lifecycle and more.'),\n",
       " Company(domain='circuitmind.io', description='Architecture to schematic in 60 seconds.')]"
      ]
     },
     "execution_count": 11,
     "metadata": {},
     "output_type": "execute_result"
    }
   ],
   "source": [
    "companies[-10:]"
   ]
  },
  {
   "cell_type": "code",
   "execution_count": null,
   "metadata": {},
   "outputs": [],
   "source": [
    "# TODO: ad linkedin dataset to the data"
   ]
  },
  {
   "cell_type": "code",
   "execution_count": 16,
   "metadata": {},
   "outputs": [],
   "source": [
    "# splitting the data to train, test, val and saving to csv\n",
    "data = [asdict(company) for company in companies]\n",
    "df = pd.DataFrame(data)\n",
    "\n",
    "train_data, temp_data = train_test_split(df, test_size=0.2)\n",
    "val_data, test_data = train_test_split(temp_data, test_size=0.5)\n",
    "\n",
    "train_data.to_csv(DATA_DIR / \"train.csv\", index=False)\n",
    "test_data.to_csv(DATA_DIR / \"test.csv\", index=False)\n",
    "val_data.to_csv(DATA_DIR / \"val.csv\", index=False)"
   ]
  }
 ],
 "metadata": {
  "kernelspec": {
   "display_name": ".venv",
   "language": "python",
   "name": "python3"
  },
  "language_info": {
   "codemirror_mode": {
    "name": "ipython",
    "version": 3
   },
   "file_extension": ".py",
   "mimetype": "text/x-python",
   "name": "python",
   "nbconvert_exporter": "python",
   "pygments_lexer": "ipython3",
   "version": "3.11.9"
  }
 },
 "nbformat": 4,
 "nbformat_minor": 2
}
